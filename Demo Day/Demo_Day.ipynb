{
 "cells": [
  {
   "cell_type": "markdown",
   "metadata": {},
   "source": [
    "## Get envirionment variables"
   ]
  },
  {
   "cell_type": "code",
   "execution_count": 149,
   "metadata": {},
   "outputs": [],
   "source": [
    "import os\n",
    "from dotenv import find_dotenv, dotenv_values\n",
    "\n",
    "keys = list(dotenv_values(find_dotenv('.env')).items())\n",
    "OPENAI_API_KEY = os.environ['OPENAI_API_KEY'] = keys[0][1]\n",
    "LANGCHAIN_API_KEY = os.environ['LANGCHAIN_API_KEY'] = keys[1][1]\n",
    "POLYGON_API_KEY = os.environ['POLYGON_API_KEY'] = keys[2][1]"
   ]
  },
  {
   "cell_type": "markdown",
   "metadata": {},
   "source": [
    "## Install Required Libraries"
   ]
  },
  {
   "cell_type": "code",
   "execution_count": 150,
   "metadata": {},
   "outputs": [
    {
     "name": "stdout",
     "output_type": "stream",
     "text": [
      "\n",
      "\u001b[1m[\u001b[0m\u001b[34;49mnotice\u001b[0m\u001b[1;39;49m]\u001b[0m\u001b[39;49m A new release of pip is available: \u001b[0m\u001b[31;49m23.1.2\u001b[0m\u001b[39;49m -> \u001b[0m\u001b[32;49m24.1.2\u001b[0m\n",
      "\u001b[1m[\u001b[0m\u001b[34;49mnotice\u001b[0m\u001b[1;39;49m]\u001b[0m\u001b[39;49m To update, run: \u001b[0m\u001b[32;49mpip install --upgrade pip\u001b[0m\n"
     ]
    }
   ],
   "source": [
    "!pip install langchain_core langchain_openai langchain_community langsmith openai tiktoken cohere lxml polygon-api-client -qU"
   ]
  },
  {
   "cell_type": "markdown",
   "metadata": {},
   "source": [
    "## Create Tools"
   ]
  },
  {
   "cell_type": "markdown",
   "metadata": {},
   "source": [
    "The following tools were ripped directly from the langchain source code to remove the requirement for current data from the API."
   ]
  },
  {
   "cell_type": "code",
   "execution_count": 151,
   "metadata": {},
   "outputs": [],
   "source": [
    "\"\"\"\n",
    "Util that calls several of Polygon's stock market REST APIs.\n",
    "Docs: https://polygon.io/docs/stocks/getting-started\n",
    "\"\"\"\n",
    "\n",
    "import json\n",
    "from typing import Any, Dict, Optional\n",
    "\n",
    "import requests\n",
    "from langchain_core.pydantic_v1 import BaseModel, root_validator\n",
    "from langchain_core.utils import get_from_dict_or_env\n",
    "\n",
    "POLYGON_BASE_URL = \"https://api.polygon.io/\"\n",
    "\n",
    "class PolygonAPIWrapper(BaseModel):\n",
    "    \"\"\"Wrapper for Polygon API.\"\"\"\n",
    "\n",
    "    polygon_api_key: Optional[str] = None\n",
    "\n",
    "    @root_validator(pre=True)\n",
    "    def validate_environment(cls, values: Dict) -> Dict:\n",
    "        \"\"\"Validate that api key in environment.\"\"\"\n",
    "        polygon_api_key = get_from_dict_or_env(\n",
    "            values, \"polygon_api_key\", \"POLYGON_API_KEY\"\n",
    "        )\n",
    "        values[\"polygon_api_key\"] = polygon_api_key\n",
    "\n",
    "        return values\n",
    "\n",
    "    def get_financials(self, ticker: str) -> Optional[dict]:\n",
    "        \"\"\"\n",
    "        Get fundamental financial data, which is found in balance sheets,\n",
    "        income statements, and cash flow statements for a given ticker.\n",
    "\n",
    "        /vX/reference/financials\n",
    "        \"\"\"\n",
    "        url = (\n",
    "            f\"{POLYGON_BASE_URL}vX/reference/financials?\"\n",
    "            f\"ticker={ticker}&\"\n",
    "            f\"apiKey={self.polygon_api_key}\"\n",
    "        )\n",
    "        response = requests.get(url)\n",
    "        data = response.json()\n",
    "\n",
    "        status = data.get(\"status\", None)\n",
    "        if status != \"OK\":\n",
    "            raise ValueError(f\"API Error: {data}\")\n",
    "\n",
    "        return data.get(\"results\", None)\n",
    "\n",
    "    def get_last_quote(self, ticker: str) -> Optional[dict]:\n",
    "        \"\"\"\n",
    "        Get the most recent National Best Bid and Offer (Quote) for a ticker.\n",
    "\n",
    "        /v2/last/nbbo/{ticker}\n",
    "        \"\"\"\n",
    "        url = f\"{POLYGON_BASE_URL}v2/last/nbbo/{ticker}?apiKey={self.polygon_api_key}\"\n",
    "        response = requests.get(url)\n",
    "        data = response.json()\n",
    "\n",
    "        status = data.get(\"status\", None)\n",
    "        if status != \"OK\":\n",
    "            raise ValueError(f\"API Error: {data}\")\n",
    "\n",
    "        return data.get(\"results\", None)\n",
    "\n",
    "    def get_ticker_news(self, ticker: str) -> Optional[dict]:\n",
    "        \"\"\"\n",
    "        Get the most recent news articles relating to a stock ticker symbol,\n",
    "        including a summary of the article and a link to the original source.\n",
    "\n",
    "        /v2/reference/news\n",
    "        \"\"\"\n",
    "        url = (\n",
    "            f\"{POLYGON_BASE_URL}v2/reference/news?\"\n",
    "            f\"ticker={ticker}&\"\n",
    "            f\"apiKey={self.polygon_api_key}\"\n",
    "        )\n",
    "        response = requests.get(url)\n",
    "        data = response.json()\n",
    "\n",
    "        status = data.get(\"status\", None)\n",
    "        if status != \"OK\":\n",
    "            raise ValueError(f\"API Error: {data}\")\n",
    "\n",
    "        return data.get(\"results\", None)\n",
    "\n",
    "    def get_aggregates(self, ticker: str, **kwargs: Any) -> Optional[dict]:\n",
    "        \"\"\"\n",
    "        Get aggregate bars for a stock over a given date range\n",
    "        in custom time window sizes.\n",
    "\n",
    "        /v2/aggs/ticker/{ticker}/range/{multiplier}/{timespan}/{from_date}/{to_date}\n",
    "        \"\"\"\n",
    "        timespan = kwargs.get(\"timespan\", \"day\")\n",
    "        multiplier = kwargs.get(\"timespan_multiplier\", 1)\n",
    "        from_date = kwargs.get(\"from_date\", None)\n",
    "        to_date = kwargs.get(\"to_date\", None)\n",
    "        adjusted = kwargs.get(\"adjusted\", True)\n",
    "        sort = kwargs.get(\"sort\", \"asc\")\n",
    "\n",
    "        url = (\n",
    "            f\"{POLYGON_BASE_URL}v2/aggs\"\n",
    "            f\"/ticker/{ticker}\"\n",
    "            f\"/range/{multiplier}\"\n",
    "            f\"/{timespan}\"\n",
    "            f\"/{from_date}\"\n",
    "            f\"/{to_date}\"\n",
    "            f\"?apiKey={self.polygon_api_key}\"\n",
    "            f\"&adjusted={adjusted}\"\n",
    "            f\"&sort={sort}\"\n",
    "        )\n",
    "        response = requests.get(url)\n",
    "        data = response.json()\n",
    "\n",
    "        status = data.get(\"status\", None)\n",
    "        if status != \"DELAYED\":\n",
    "            raise ValueError(f\"API Error: {data}\")\n",
    "\n",
    "        return data.get(\"results\", None)\n",
    "\n",
    "    def run(self, mode: str, ticker: str, **kwargs: Any) -> str:\n",
    "        if mode == \"get_financials\":\n",
    "            return json.dumps(self.get_financials(ticker))\n",
    "        elif mode == \"get_last_quote\":\n",
    "            return json.dumps(self.get_last_quote(ticker))\n",
    "        elif mode == \"get_ticker_news\":\n",
    "            return json.dumps(self.get_ticker_news(ticker))\n",
    "        elif mode == \"get_aggregates\":\n",
    "            return json.dumps(self.get_aggregates(ticker, **kwargs))\n",
    "        else:\n",
    "            raise ValueError(f\"Invalid mode {mode} for Polygon API.\")\n"
   ]
  },
  {
   "cell_type": "code",
   "execution_count": 152,
   "metadata": {},
   "outputs": [],
   "source": [
    "from typing import Optional, Type\n",
    "\n",
    "from langchain_core.callbacks import CallbackManagerForToolRun\n",
    "from langchain_core.pydantic_v1 import BaseModel, Field\n",
    "from langchain_core.tools import BaseTool\n",
    "\n",
    "class PolygonAggregatesSchema(BaseModel):\n",
    "    \"\"\"Input for PolygonAggregates.\"\"\"\n",
    "\n",
    "    ticker: str = Field(\n",
    "        description=\"The ticker symbol to fetch aggregates for.\",\n",
    "    )\n",
    "    timespan: str = Field(\n",
    "        description=\"The size of the time window. \"\n",
    "        \"Possible values are: \"\n",
    "        \"second, minute, hour, day, week, month, quarter, year. \"\n",
    "        \"Default is 'day'\",\n",
    "    )\n",
    "    timespan_multiplier: int = Field(\n",
    "        description=\"The number of timespans to aggregate. \"\n",
    "        \"For example, if timespan is 'day' and \"\n",
    "        \"timespan_multiplier is 1, the result will be daily bars. \"\n",
    "        \"If timespan is 'day' and timespan_multiplier is 5, \"\n",
    "        \"the result will be weekly bars.  \"\n",
    "        \"Default is 1.\",\n",
    "    )\n",
    "    from_date: str = Field(\n",
    "        description=\"The start of the aggregate time window. \"\n",
    "        \"Either a date with the format YYYY-MM-DD or \"\n",
    "        \"a millisecond timestamp.\",\n",
    "    )\n",
    "    to_date: str = Field(\n",
    "        description=\"The end of the aggregate time window. \"\n",
    "        \"Either a date with the format YYYY-MM-DD or \"\n",
    "        \"a millisecond timestamp.\",\n",
    "    )\n",
    "\n",
    "\n",
    "class PolygonAggregates(BaseTool):\n",
    "    \"\"\"\n",
    "    Tool that gets aggregate bars (stock prices) over a\n",
    "    given date range for a given ticker from Polygon.\n",
    "    \"\"\"\n",
    "\n",
    "    mode: str = \"get_aggregates\"\n",
    "    name: str = \"polygon_aggregates\"\n",
    "    description: str = (\n",
    "        \"A wrapper around Polygon's Aggregates API. \"\n",
    "        \"This tool is useful for fetching aggregate bars (stock prices) for a ticker. \"\n",
    "        \"Input should be the ticker, date range, timespan, and timespan multiplier\"\n",
    "        \" that you want to get the aggregate bars for.\"\n",
    "    )\n",
    "    args_schema: Type[PolygonAggregatesSchema] = PolygonAggregatesSchema\n",
    "\n",
    "    api_wrapper: PolygonAPIWrapper\n",
    "\n",
    "    def _run(\n",
    "        self,\n",
    "        ticker: str,\n",
    "        timespan: str,\n",
    "        timespan_multiplier: int,\n",
    "        from_date: str,\n",
    "        to_date: str,\n",
    "        run_manager: Optional[CallbackManagerForToolRun] = None,\n",
    "    ) -> str:\n",
    "        \"\"\"Use the Polygon API tool.\"\"\"\n",
    "        return self.api_wrapper.run(\n",
    "            mode=self.mode,\n",
    "            ticker=ticker,\n",
    "            timespan=timespan,\n",
    "            timespan_multiplier=timespan_multiplier,\n",
    "            from_date=from_date,\n",
    "            to_date=to_date,\n",
    "        )\n"
   ]
  },
  {
   "cell_type": "code",
   "execution_count": 153,
   "metadata": {},
   "outputs": [],
   "source": [
    "from typing import Optional, Type\n",
    "\n",
    "from langchain_core.callbacks import CallbackManagerForToolRun\n",
    "from langchain_core.pydantic_v1 import BaseModel\n",
    "from langchain_core.tools import BaseTool\n",
    "\n",
    "class Inputs(BaseModel):\n",
    "    \"\"\"Inputs for Polygon's Financials API\"\"\"\n",
    "\n",
    "    query: str\n",
    "\n",
    "\n",
    "class PolygonFinancials(BaseTool):\n",
    "    \"\"\"Tool that gets the financials of a ticker from Polygon\"\"\"\n",
    "\n",
    "    mode: str = \"get_financials\"\n",
    "    name: str = \"polygon_financials\"\n",
    "    description: str = (\n",
    "        \"A wrapper around Polygon's Stock Financials API. \"\n",
    "        \"This tool is useful for fetching fundamental financials from \"\n",
    "        \"balance sheets, income statements, and cash flow statements \"\n",
    "        \"for a stock ticker. The input should be the ticker that you want \"\n",
    "        \"to get the latest fundamental financial data for.\"\n",
    "    )\n",
    "    args_schema: Type[BaseModel] = Inputs\n",
    "\n",
    "    api_wrapper: PolygonAPIWrapper\n",
    "\n",
    "    def _run(\n",
    "        self,\n",
    "        query: str,\n",
    "        run_manager: Optional[CallbackManagerForToolRun] = None,\n",
    "    ) -> str:\n",
    "        \"\"\"Use the Polygon API tool.\"\"\"\n",
    "        return self.api_wrapper.run(self.mode, ticker=query)\n"
   ]
  },
  {
   "cell_type": "code",
   "execution_count": 154,
   "metadata": {},
   "outputs": [],
   "source": [
    "from typing import Optional, Type\n",
    "\n",
    "from langchain_core.callbacks import CallbackManagerForToolRun\n",
    "from langchain_core.pydantic_v1 import BaseModel\n",
    "from langchain_core.tools import BaseTool\n",
    "\n",
    "class Inputs(BaseModel):\n",
    "    \"\"\"Inputs for Polygon's Ticker News API\"\"\"\n",
    "\n",
    "    query: str\n",
    "\n",
    "\n",
    "class PolygonTickerNews(BaseTool):\n",
    "    \"\"\"Tool that gets the latest news for a given ticker from Polygon\"\"\"\n",
    "\n",
    "    mode: str = \"get_ticker_news\"\n",
    "    name: str = \"polygon_ticker_news\"\n",
    "    description: str = (\n",
    "        \"A wrapper around Polygon's Ticker News API. \"\n",
    "        \"This tool is useful for fetching the latest news for a stock. \"\n",
    "        \"Input should be the ticker that you want to get the latest news for.\"\n",
    "    )\n",
    "    args_schema: Type[BaseModel] = Inputs\n",
    "\n",
    "    api_wrapper: PolygonAPIWrapper\n",
    "\n",
    "    def _run(\n",
    "        self,\n",
    "        query: str,\n",
    "        run_manager: Optional[CallbackManagerForToolRun] = None,\n",
    "    ) -> str:\n",
    "        \"\"\"Use the Polygon API tool.\"\"\"\n",
    "        return self.api_wrapper.run(self.mode, ticker=query)\n"
   ]
  },
  {
   "cell_type": "markdown",
   "metadata": {},
   "source": [
    "## Set up tool belt"
   ]
  },
  {
   "cell_type": "code",
   "execution_count": 170,
   "metadata": {},
   "outputs": [],
   "source": [
    "from langchain_community.tools.ddg_search import DuckDuckGoSearchRun\n",
    "from langchain.tools import tool\n",
    "import datetime\n",
    "\n",
    "@tool\n",
    "def get_datetime() -> str:\n",
    "    \"\"\"Get the current date and time in YYYY-MM-DD HH:MM:SS format.\"\"\"\n",
    "    return str(datetime.datetime.now())\n",
    "\n",
    "@tool\n",
    "def get_date() -> str:\n",
    "    \"\"\"Get the current date in YYYY-MM-DD format. Also useful when determining the current quarter.\"\"\"\n",
    "    return str(datetime.datetime.now()).split(\" \")[0]\n",
    "\n",
    "@tool\n",
    "def get_time() -> str:\n",
    "    \"\"\"Get the current time in HH:MM:SS format.\"\"\"\n",
    "    return str(datetime.datetime.now()).split(\" \")[1]\n",
    "\n",
    "api_wrapper = PolygonAPIWrapper(polygon_api_key=POLYGON_API_KEY)\n",
    "\n",
    "tool_belt = [\n",
    "    get_datetime,\n",
    "    get_date,\n",
    "    get_time,\n",
    "    DuckDuckGoSearchRun(),\n",
    "    PolygonAggregates(api_wrapper=api_wrapper),\n",
    "    PolygonFinancials(api_wrapper=api_wrapper),\n",
    "    PolygonTickerNews(api_wrapper=api_wrapper),\n",
    "]"
   ]
  },
  {
   "cell_type": "markdown",
   "metadata": {},
   "source": [
    "## Set up tool executor"
   ]
  },
  {
   "cell_type": "code",
   "execution_count": 156,
   "metadata": {},
   "outputs": [],
   "source": [
    "from langgraph.prebuilt import ToolExecutor\n",
    "\n",
    "tool_executor = ToolExecutor(tool_belt)"
   ]
  },
  {
   "cell_type": "markdown",
   "metadata": {},
   "source": [
    "## Set up model"
   ]
  },
  {
   "cell_type": "code",
   "execution_count": 157,
   "metadata": {},
   "outputs": [],
   "source": [
    "from langchain_openai import ChatOpenAI\n",
    "\n",
    "model = ChatOpenAI(model=\"gpt-4o\", temperature=0)"
   ]
  },
  {
   "cell_type": "markdown",
   "metadata": {},
   "source": [
    "## Set up function calling"
   ]
  },
  {
   "cell_type": "code",
   "execution_count": 158,
   "metadata": {},
   "outputs": [],
   "source": [
    "from langchain_core.utils.function_calling import convert_to_openai_function\n",
    "\n",
    "functions = [convert_to_openai_function(t) for t in tool_belt]\n",
    "model = model.bind_functions(functions)"
   ]
  },
  {
   "cell_type": "markdown",
   "metadata": {},
   "source": [
    "## Set up agent state"
   ]
  },
  {
   "cell_type": "code",
   "execution_count": 159,
   "metadata": {},
   "outputs": [],
   "source": [
    "from typing import TypedDict, Annotated\n",
    "from langgraph.graph.message import add_messages\n",
    "import operator\n",
    "from langchain_core.messages import BaseMessage\n",
    "\n",
    "class AgentState(TypedDict):\n",
    "  messages: Annotated[list, add_messages]"
   ]
  },
  {
   "cell_type": "markdown",
   "metadata": {},
   "source": [
    "## Create nodes"
   ]
  },
  {
   "cell_type": "code",
   "execution_count": 160,
   "metadata": {},
   "outputs": [],
   "source": [
    "from langgraph.prebuilt import ToolInvocation\n",
    "import json\n",
    "from langchain_core.messages import FunctionMessage\n",
    "\n",
    "def call_model(state):\n",
    "  messages = state[\"messages\"]\n",
    "  response = model.invoke(messages)\n",
    "  return {\"messages\" : [response]}\n",
    "\n",
    "def call_tool(state):\n",
    "  last_message = state[\"messages\"][-1]\n",
    "\n",
    "  action = ToolInvocation(\n",
    "      tool=last_message.additional_kwargs[\"function_call\"][\"name\"],\n",
    "      tool_input=json.loads(\n",
    "          last_message.additional_kwargs[\"function_call\"][\"arguments\"]\n",
    "      )\n",
    "  )\n",
    "\n",
    "  response = tool_executor.invoke(action)\n",
    "\n",
    "  function_message = FunctionMessage(content=str(response), name=action.tool)\n",
    "\n",
    "  return {\"messages\" : [function_message]}"
   ]
  },
  {
   "cell_type": "code",
   "execution_count": 161,
   "metadata": {},
   "outputs": [],
   "source": [
    "from langgraph.graph import StateGraph, END\n",
    "\n",
    "workflow = StateGraph(AgentState)\n",
    "\n",
    "workflow.add_node(\"agent\", call_model)\n",
    "workflow.add_node(\"action\", call_tool)"
   ]
  },
  {
   "cell_type": "code",
   "execution_count": 162,
   "metadata": {},
   "outputs": [],
   "source": [
    "workflow.set_entry_point(\"agent\")"
   ]
  },
  {
   "cell_type": "code",
   "execution_count": 163,
   "metadata": {},
   "outputs": [],
   "source": [
    "def should_continue(state):\n",
    "  last_message = state[\"messages\"][-1]\n",
    "\n",
    "  if \"function_call\" not in last_message.additional_kwargs:\n",
    "    return \"end\"\n",
    "\n",
    "  return \"continue\"\n",
    "\n",
    "workflow.add_conditional_edges(\n",
    "    \"agent\",\n",
    "    should_continue,\n",
    "    {\n",
    "        \"continue\" : \"action\",\n",
    "        \"end\" : END\n",
    "    }\n",
    ")"
   ]
  },
  {
   "cell_type": "code",
   "execution_count": 164,
   "metadata": {},
   "outputs": [],
   "source": [
    "workflow.add_edge(\"action\", \"agent\")"
   ]
  },
  {
   "cell_type": "code",
   "execution_count": 165,
   "metadata": {},
   "outputs": [],
   "source": [
    "app = workflow.compile()"
   ]
  },
  {
   "cell_type": "code",
   "execution_count": 166,
   "metadata": {},
   "outputs": [],
   "source": [
    "def print_messages(messages):\n",
    "  next_is_tool = False\n",
    "  initial_query = True\n",
    "  for message in messages[\"messages\"]:\n",
    "    if \"function_call\" in message.additional_kwargs:\n",
    "      print()\n",
    "      print(f'Tool Call - Name: {message.additional_kwargs[\"function_call\"][\"name\"]} + Query: {message.additional_kwargs[\"function_call\"][\"arguments\"]}')\n",
    "      next_is_tool = True\n",
    "      continue\n",
    "    if next_is_tool:\n",
    "      print(f\"Tool Response: {message.content}\")\n",
    "      next_is_tool = False\n",
    "      continue\n",
    "    if initial_query:\n",
    "      print(f\"Initial Query: {message.content}\")\n",
    "      print()\n",
    "      initial_query = False\n",
    "      continue\n",
    "    print()\n",
    "    print(f\"Agent Response: {message.content}\")"
   ]
  },
  {
   "cell_type": "code",
   "execution_count": 169,
   "metadata": {},
   "outputs": [
    {
     "name": "stdout",
     "output_type": "stream",
     "text": [
      "Initial Query: What is the current time?\n",
      "\n",
      "\n",
      "Tool Call - Name: get_time + Query: {}\n",
      "Tool Response: 2024-07-16\n",
      "\n",
      "Agent Response: The current date is 2024-07-16.\n"
     ]
    }
   ],
   "source": [
    "from langchain_core.messages import HumanMessage\n",
    "\n",
    "inputs = {\"messages\" : [HumanMessage(content=\"What is the current time?\")]}\n",
    "\n",
    "messages = app.invoke(inputs)\n",
    "\n",
    "print_messages(messages)"
   ]
  },
  {
   "cell_type": "markdown",
   "metadata": {},
   "source": [
    "## Set up vector store"
   ]
  },
  {
   "cell_type": "code",
   "execution_count": 168,
   "metadata": {},
   "outputs": [],
   "source": [
    "from langchain_community.vectorstores import FAISS\n"
   ]
  }
 ],
 "metadata": {
  "kernelspec": {
   "display_name": "venv",
   "language": "python",
   "name": "python3"
  },
  "language_info": {
   "codemirror_mode": {
    "name": "ipython",
    "version": 3
   },
   "file_extension": ".py",
   "mimetype": "text/x-python",
   "name": "python",
   "nbconvert_exporter": "python",
   "pygments_lexer": "ipython3",
   "version": "3.11.4"
  }
 },
 "nbformat": 4,
 "nbformat_minor": 2
}
